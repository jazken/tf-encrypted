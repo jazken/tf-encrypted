{
 "cells": [
  {
   "cell_type": "code",
   "execution_count": 1,
   "metadata": {},
   "outputs": [
    {
     "name": "stderr",
     "output_type": "stream",
     "text": [
      "Falling back to insecure randomness since the required custom op could not be found for the installed version of TensorFlow. Fix this by compiling custom ops. Missing file was 'F:\\Anaconda3\\envs\\tfe\\lib\\site-packages\\tf_encrypted/operations/secure_random/secure_random_module_tf_1.15.2.so'\n"
     ]
    },
    {
     "name": "stdout",
     "output_type": "stream",
     "text": [
      "WARNING:tensorflow:From F:\\Anaconda3\\envs\\tfe\\lib\\site-packages\\tf_encrypted\\session.py:24: The name tf.Session is deprecated. Please use tf.compat.v1.Session instead.\n",
      "\n"
     ]
    }
   ],
   "source": [
    "import tensorflow as tf\n",
    "\n",
    "import tf_encrypted as tfe\n",
    "from tf_encrypted.keras import backend as KE\n",
    "from tf_encrypted.keras.losses import BinaryCrossentropy\n",
    "from tf_encrypted.keras.optimizers import SGD\n",
    "\n",
    "from common import DataOwner\n",
    "\n",
    "import sys\n",
    "sys.path.append('../')\n",
    "from utils import print_in_notebook"
   ]
  },
  {
   "cell_type": "code",
   "execution_count": 2,
   "metadata": {},
   "outputs": [],
   "source": [
    "num_features = 10\n",
    "training_set_size = 2000\n",
    "test_set_size = 100\n",
    "batch_size = 100\n",
    "steps_per_epoch = (training_set_size // batch_size)\n",
    "epochs = 20"
   ]
  },
  {
   "cell_type": "code",
   "execution_count": 3,
   "metadata": {},
   "outputs": [
    {
     "name": "stdout",
     "output_type": "stream",
     "text": [
      "WARNING:tensorflow:\n",
      "The TensorFlow contrib module will not be included in TensorFlow 2.0.\n",
      "For more information, please see:\n",
      "  * https://github.com/tensorflow/community/blob/master/rfcs/20180907-contrib-sunset.md\n",
      "  * https://github.com/tensorflow/addons\n",
      "  * https://github.com/tensorflow/io (for I/O related ops)\n",
      "If you depend on functionality not listed there, please file an issue.\n",
      "\n",
      "WARNING:tensorflow:From F:\\Users\\Kenneth\\Documents\\GitHub\\tf-encrypted\\examples\\notebooks\\keras-training\\common.py:52: DatasetV1.make_initializable_iterator (from tensorflow.python.data.ops.dataset_ops) is deprecated and will be removed in a future version.\n",
      "Instructions for updating:\n",
      "Use `for ... in dataset:` to iterate over a dataset. If using `tf.estimator`, return the `Dataset` object directly from your input function. As a last resort, you can use `tf.compat.v1.data.make_initializable_iterator(dataset)`.\n",
      "WARNING:tensorflow:From F:\\Anaconda3\\envs\\tfe\\lib\\site-packages\\tf_encrypted\\tensor\\native.py:101: The name tf.random_uniform is deprecated. Please use tf.random.uniform instead.\n",
      "\n"
     ]
    }
   ],
   "source": [
    "data_owner = DataOwner('data-owner',\n",
    "                       num_features,\n",
    "                       training_set_size,\n",
    "                       test_set_size,\n",
    "                       batch_size)\n",
    "\n",
    "x_train, y_train = data_owner.provide_training_data()\n",
    "x_test, y_test = data_owner.provide_testing_data()"
   ]
  },
  {
   "cell_type": "code",
   "execution_count": 4,
   "metadata": {},
   "outputs": [],
   "source": [
    "@tfe.local_computation('data-owner')\n",
    "def compute_accuracy(y_pred, y_test):\n",
    "    correct_prediction = tf.equal(tf.round(y_pred), y_test)\n",
    "    accuracy = tf.reduce_mean(tf.cast(correct_prediction, tf.float32))\n",
    "    print_op = print_in_notebook(accuracy)\n",
    "    return print_op"
   ]
  },
  {
   "cell_type": "markdown",
   "metadata": {},
   "source": [
    "## Define Model"
   ]
  },
  {
   "cell_type": "code",
   "execution_count": 5,
   "metadata": {},
   "outputs": [
    {
     "name": "stdout",
     "output_type": "stream",
     "text": [
      "WARNING:tensorflow:From F:\\Anaconda3\\envs\\tfe\\lib\\site-packages\\tf_encrypted\\keras\\engine\\base_layer_utils.py:29: The name tf.get_default_graph is deprecated. Please use tf.compat.v1.get_default_graph instead.\n",
      "\n",
      "WARNING:tensorflow:From F:\\Anaconda3\\envs\\tfe\\lib\\site-packages\\tf_encrypted\\tensor\\native.py:415: The name tf.placeholder is deprecated. Please use tf.compat.v1.placeholder instead.\n",
      "\n"
     ]
    }
   ],
   "source": [
    "model = tfe.keras.Sequential()\n",
    "model.add(tfe.keras.layers.Dense(1, batch_input_shape=[batch_size, num_features]))\n",
    "model.add(tfe.keras.layers.Activation('sigmoid'))"
   ]
  },
  {
   "cell_type": "code",
   "execution_count": 6,
   "metadata": {
    "scrolled": false
   },
   "outputs": [
    {
     "name": "stdout",
     "output_type": "stream",
     "text": [
      "WARNING:tensorflow:From F:\\Anaconda3\\envs\\tfe\\lib\\site-packages\\tf_encrypted\\config.py:171: The name tf.ConfigProto is deprecated. Please use tf.compat.v1.ConfigProto instead.\n",
      "\n",
      "WARNING:tensorflow:From F:\\Anaconda3\\envs\\tfe\\lib\\site-packages\\tf_encrypted\\config.py:84: The name tf.GraphOptions is deprecated. Please use tf.compat.v1.GraphOptions instead.\n",
      "\n",
      "WARNING:tensorflow:From F:\\Anaconda3\\envs\\tfe\\lib\\site-packages\\tf_encrypted\\keras\\models\\sequential.py:162: The name tf.global_variables_initializer is deprecated. Please use tf.compat.v1.global_variables_initializer instead.\n",
      "\n",
      "Epoch 1/20\n",
      "WARNING:tensorflow:From F:\\Anaconda3\\envs\\tfe\\lib\\site-packages\\tf_encrypted\\tensor\\native.py:445: The name tf.assign is deprecated. Please use tf.compat.v1.assign instead.\n",
      "\n",
      "2000/2000 [==============================] - 5s 2ms/step - loss: 0.6992\n",
      "Epoch 2/20\n",
      "2000/2000 [==============================] - 1s 394us/step - loss: 0.6517\n",
      "Epoch 3/20\n",
      "2000/2000 [==============================] - 1s 383us/step - loss: 0.6081\n",
      "Epoch 4/20\n",
      "2000/2000 [==============================] - 1s 374us/step - loss: 0.5762\n",
      "Epoch 5/20\n",
      "2000/2000 [==============================] - 1s 382us/step - loss: 0.5443\n",
      "Epoch 6/20\n",
      "2000/2000 [==============================] - 1s 372us/step - loss: 0.5225\n",
      "Epoch 7/20\n",
      "2000/2000 [==============================] - 1s 359us/step - loss: 0.4972\n",
      "Epoch 8/20\n",
      "2000/2000 [==============================] - 1s 351us/step - loss: 0.4772 0s - loss\n",
      "Epoch 9/20\n",
      "2000/2000 [==============================] - 1s 345us/step - loss: 0.4575\n",
      "Epoch 10/20\n",
      "2000/2000 [==============================] - 1s 357us/step - loss: 0.4422\n",
      "Epoch 11/20\n",
      "2000/2000 [==============================] - 1s 358us/step - loss: 0.4314\n",
      "Epoch 12/20\n",
      "2000/2000 [==============================] - 1s 358us/step - loss: 0.4154\n",
      "Epoch 13/20\n",
      "2000/2000 [==============================] - 1s 364us/step - loss: 0.4054\n",
      "Epoch 14/20\n",
      "2000/2000 [==============================] - 1s 370us/step - loss: 0.3941\n",
      "Epoch 15/20\n",
      "2000/2000 [==============================] - 1s 356us/step - loss: 0.3874\n",
      "Epoch 16/20\n",
      "2000/2000 [==============================] - 1s 355us/step - loss: 0.3741\n",
      "Epoch 17/20\n",
      "2000/2000 [==============================] - 1s 364us/step - loss: 0.3646\n",
      "Epoch 18/20\n",
      "2000/2000 [==============================] - 1s 359us/step - loss: 0.3586\n",
      "Epoch 19/20\n",
      "2000/2000 [==============================] - 1s 363us/step - loss: 0.3478\n",
      "Epoch 20/20\n",
      "2000/2000 [==============================] - 1s 383us/step - loss: 0.3468\n",
      "WARNING:tensorflow:From ..\\utils.py:9: py_func (from tensorflow.python.ops.script_ops) is deprecated and will be removed in a future version.\n",
      "Instructions for updating:\n",
      "tf.py_func is deprecated in TF V2. Instead, there are two\n",
      "    options available in V2.\n",
      "    - tf.py_function takes a python function which manipulates tf eager\n",
      "    tensors instead of numpy arrays. It's easy to convert a tf eager tensor to\n",
      "    an ndarray (just call tensor.numpy()) but having access to eager tensors\n",
      "    means `tf.py_function`s can use accelerators such as GPUs as well as\n",
      "    being differentiable using a gradient tape.\n",
      "    - tf.numpy_function maintains the semantics of the deprecated tf.py_func\n",
      "    (it is not differentiable, and manipulates numpy arrays). It drops the\n",
      "    stateful argument making all functions stateful.\n",
      "    \n",
      "0.97\n"
     ]
    }
   ],
   "source": [
    "sess = KE.get_session()\n",
    "sess.run([data_owner.initializer])\n",
    "\n",
    "model.compile(optimizer=SGD(lr=0.01),\n",
    "              loss=BinaryCrossentropy())\n",
    "\n",
    "# Train\n",
    "model.fit(x_train,\n",
    "          y_train,\n",
    "          epochs=epochs,\n",
    "          steps_per_epoch=steps_per_epoch)\n",
    "\n",
    "# evaluate\n",
    "y_pred = model(x_test)\n",
    "sess.run(compute_accuracy(y_pred, y_test))"
   ]
  },
  {
   "cell_type": "code",
   "execution_count": null,
   "metadata": {},
   "outputs": [],
   "source": []
  }
 ],
 "metadata": {
  "kernelspec": {
   "display_name": "Python 3",
   "language": "python",
   "name": "python3"
  },
  "language_info": {
   "codemirror_mode": {
    "name": "ipython",
    "version": 3
   },
   "file_extension": ".py",
   "mimetype": "text/x-python",
   "name": "python",
   "nbconvert_exporter": "python",
   "pygments_lexer": "ipython3",
   "version": "3.6.10"
  }
 },
 "nbformat": 4,
 "nbformat_minor": 2
}
